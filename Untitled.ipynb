{
 "cells": [
  {
   "cell_type": "markdown",
   "id": "502bf1ed-6516-413b-8969-20d14cf33fc0",
   "metadata": {},
   "source": [
    "# Arbeidskrav 5 Sok-1003"
   ]
  },
  {
   "cell_type": "markdown",
   "id": "b57f9b07-8edc-4cc9-9696-55a9b05b53eb",
   "metadata": {},
   "source": [
    "## Modul 15 Likningsett(innsettingsmetoden)"
   ]
  },
  {
   "cell_type": "markdown",
   "id": "09ecd976-e4d5-4959-a2cd-081045a63b8c",
   "metadata": {},
   "source": [
    "Oppgave 1A"
   ]
  },
  {
   "cell_type": "code",
   "execution_count": 2,
   "id": "e35dd0bf-f92a-472c-a914-b054933885cf",
   "metadata": {},
   "outputs": [
    {
     "data": {
      "text/plain": [
       "{x: -1, y: 2}"
      ]
     },
     "execution_count": 2,
     "metadata": {},
     "output_type": "execute_result"
    }
   ],
   "source": [
    "import sympy as sp\n",
    "from sympy.solvers import solve\n",
    "x,y=sp.symbols('x y')\n",
    "\n",
    "import pandas as pd\n",
    "import numpy as np\n",
    "import matplotlib.pyplot as plt\n",
    "\n",
    "#Komma erstatter liketstegnet.\n",
    "\n",
    "eq1 = sp.Eq(2*x + 4*y, 6)\n",
    "eq1\n",
    "\n",
    "eq2 = sp.Eq(-2*x + y, 4)\n",
    "eq2\n",
    "\n",
    "sol=solve([eq1,eq2], [x,y])\n",
    "sol"
   ]
  },
  {
   "cell_type": "markdown",
   "id": "7456fd4b-900f-447e-8dd7-c7fc55971202",
   "metadata": {},
   "source": [
    "Oppgave 1B"
   ]
  },
  {
   "cell_type": "code",
   "execution_count": 3,
   "id": "07d29381-4ce0-4855-9bd7-a6af2069f782",
   "metadata": {},
   "outputs": [
    {
     "data": {
      "text/plain": [
       "{x: 0, y: 1}"
      ]
     },
     "execution_count": 3,
     "metadata": {},
     "output_type": "execute_result"
    }
   ],
   "source": [
    "eq3 = sp.Eq(2*x - y, -1)\n",
    "eq3\n",
    "\n",
    "eq4 = sp.Eq(2+x - y,  1)\n",
    "eq4\n",
    "\n",
    "\n",
    "sol=solve([eq3,eq4], [x,y])\n",
    "sol"
   ]
  },
  {
   "cell_type": "markdown",
   "id": "8f24f25e-4eca-4e05-8ace-be888eda07f0",
   "metadata": {},
   "source": [
    "Oppgave 2A"
   ]
  },
  {
   "cell_type": "code",
   "execution_count": 4,
   "id": "e5932a70-62b4-41b7-b3ba-da3a537c87a6",
   "metadata": {},
   "outputs": [
    {
     "data": {
      "text/plain": [
       "{x: 4, y: 0}"
      ]
     },
     "execution_count": 4,
     "metadata": {},
     "output_type": "execute_result"
    }
   ],
   "source": [
    "eq5 = sp.Eq(3*x - 12 , - 6*y)\n",
    "eq5\n",
    "\n",
    "eq6 = sp.Eq(4*x - 8*y , 16)\n",
    "eq6\n",
    "\n",
    "sol=solve([eq5,eq6], [x,y])\n",
    "sol"
   ]
  },
  {
   "cell_type": "markdown",
   "id": "b8e14f11-0e5b-430c-a6f2-0c35bde96743",
   "metadata": {},
   "source": [
    "Oppgave 2B"
   ]
  },
  {
   "cell_type": "code",
   "execution_count": 4,
   "id": "861ccfe1-7eed-482e-8620-7218e59b8e71",
   "metadata": {},
   "outputs": [
    {
     "data": {
      "text/plain": [
       "[(-15/2, 31/4), (2, 3)]"
      ]
     },
     "execution_count": 4,
     "metadata": {},
     "output_type": "execute_result"
    }
   ],
   "source": [
    "eq7 = sp.Eq(x**2 + 4*x - 3 ,3*y)\n",
    "eq7\n",
    "\n",
    "eq8 = sp.Eq(2*y , 8 - x)\n",
    "eq8\n",
    "\n",
    "sol=solve([eq7,eq8], [x,y])\n",
    "sol"
   ]
  },
  {
   "cell_type": "markdown",
   "id": "889cf6b8-02a1-4290-a814-cd8a5f41214b",
   "metadata": {},
   "source": [
    "## Modul 16, Likningssett(addisjonsmetoden)"
   ]
  },
  {
   "cell_type": "markdown",
   "id": "832a2ac0-f439-4bbb-ad19-b76818f65ddd",
   "metadata": {},
   "source": [
    "Oppgave 1A"
   ]
  },
  {
   "cell_type": "code",
   "execution_count": 9,
   "id": "b4352c06-db01-480e-a0b9-dee386f379c4",
   "metadata": {},
   "outputs": [
    {
     "data": {
      "text/plain": [
       "{x: 2, y: 2}"
      ]
     },
     "execution_count": 9,
     "metadata": {},
     "output_type": "execute_result"
    }
   ],
   "source": [
    "eq9 = sp.Eq(4*x + 2*y , 12)\n",
    "eq9\n",
    "\n",
    "eq10 = sp.Eq(6*x - 2*y , 8)\n",
    "eq10\n",
    "\n",
    "sol=solve([eq9,eq10], [x,y])\n",
    "sol"
   ]
  },
  {
   "cell_type": "markdown",
   "id": "5244430c-6299-496a-9f2b-0cde091b9eb0",
   "metadata": {},
   "source": [
    "Oppgave 1B"
   ]
  },
  {
   "cell_type": "code",
   "execution_count": 10,
   "id": "c5cba00e-b93a-471e-9f52-749642064e44",
   "metadata": {},
   "outputs": [
    {
     "data": {
      "text/plain": [
       "[(0, -5), (12, 1)]"
      ]
     },
     "execution_count": 10,
     "metadata": {},
     "output_type": "execute_result"
    }
   ],
   "source": [
    "import sympy as sp\n",
    "from sympy.solvers import solve\n",
    "x,y=sp.symbols('x y')\n",
    "\n",
    "\n",
    "eq11 = sp.Eq(2*x +y**2 , 25)\n",
    "eq11\n",
    "\n",
    "eq12 = sp.Eq(x - 2*y , 10)\n",
    "eq12\n",
    "\n",
    "sol=solve([eq11,eq12], [x,y])\n",
    "sol"
   ]
  },
  {
   "cell_type": "markdown",
   "id": "769b2e0a-a4c4-4a18-9763-78d8333c92af",
   "metadata": {},
   "source": [
    "Oppgave 2A"
   ]
  },
  {
   "cell_type": "code",
   "execution_count": 11,
   "id": "95ee678d-00f1-4ea2-a3d2-cee13113986a",
   "metadata": {},
   "outputs": [
    {
     "data": {
      "text/plain": [
       "{x: 4, y: 2}"
      ]
     },
     "execution_count": 11,
     "metadata": {},
     "output_type": "execute_result"
    }
   ],
   "source": [
    "eq13 = sp.Eq(4*x - 4*y , 8)\n",
    "eq13\n",
    "\n",
    "eq14 = sp.Eq(9*x - 5*y , 26)\n",
    "eq14\n",
    "\n",
    "sol=solve([eq13,eq14], [x,y])\n",
    "sol"
   ]
  },
  {
   "cell_type": "markdown",
   "id": "6e2cde3e-9921-4f5b-b9bd-6563bd4737aa",
   "metadata": {},
   "source": [
    "Oppgave 2B"
   ]
  },
  {
   "cell_type": "code",
   "execution_count": 12,
   "id": "d8801a40-2963-45e5-ac20-101d8780fca7",
   "metadata": {},
   "outputs": [
    {
     "data": {
      "text/plain": [
       "[(-9, -2*sqrt(3)), (-9, 2*sqrt(3)), (7, -2), (7, 2)]"
      ]
     },
     "execution_count": 12,
     "metadata": {},
     "output_type": "execute_result"
    }
   ],
   "source": [
    "eq15 = sp.Eq(x+ 2*y**2 , 15)\n",
    "eq15\n",
    "\n",
    "eq16 = sp.Eq(x**2 - 4*y**2 , 33)\n",
    "eq16\n",
    "\n",
    "sol=solve([eq15,eq16], [x,y])\n",
    "sol"
   ]
  },
  {
   "cell_type": "markdown",
   "id": "47bd4c77-aec6-46fd-9f7e-d92b699f2499",
   "metadata": {},
   "source": [
    "## Modul 17 Likningssett(faktoriseringsmetoden)"
   ]
  },
  {
   "cell_type": "markdown",
   "id": "659d1e00-3411-4ec2-90ea-ebb50ebfbf63",
   "metadata": {},
   "source": [
    "Oppgave 1A"
   ]
  },
  {
   "cell_type": "code",
   "execution_count": 13,
   "id": "b8b402d5-6ef9-4bf8-bca0-65696e9fd3f8",
   "metadata": {},
   "outputs": [
    {
     "data": {
      "text/plain": [
       "[(0, -4), (0, 4), (15, -1), (15, 1)]"
      ]
     },
     "execution_count": 13,
     "metadata": {},
     "output_type": "execute_result"
    }
   ],
   "source": [
    "eq17 = sp.Eq(x*y**2 - x , 0)\n",
    "eq17\n",
    "\n",
    "eq18 = sp.Eq(x + y**2 , 16)\n",
    "eq18\n",
    "\n",
    "sol=solve([eq17,eq18], [x,y])\n",
    "sol"
   ]
  },
  {
   "cell_type": "markdown",
   "id": "16a9bf15-6c1b-45c9-8315-bf956f4b0e79",
   "metadata": {},
   "source": [
    "Oppgave 1B"
   ]
  },
  {
   "cell_type": "code",
   "execution_count": 14,
   "id": "32b20bc1-a2af-4313-b1e2-a1eca0653e3e",
   "metadata": {},
   "outputs": [
    {
     "data": {
      "text/plain": [
       "[(-10, 0), (-6, -8), (-6, 8), (6, -8), (6, 8), (10, 0)]"
      ]
     },
     "execution_count": 14,
     "metadata": {},
     "output_type": "execute_result"
    }
   ],
   "source": [
    "eq19 = sp.Eq(x**2+y**2 , 100)\n",
    "eq19\n",
    "\n",
    "eq20 = sp.Eq(x**2*y - 36*y , 0)\n",
    "eq20\n",
    "\n",
    "sol=solve([eq19,eq20], [x,y])\n",
    "sol"
   ]
  },
  {
   "cell_type": "markdown",
   "id": "fbf15600-c1d8-4a89-924a-6a276ba148ac",
   "metadata": {},
   "source": [
    "Oppgave 2A"
   ]
  },
  {
   "cell_type": "code",
   "execution_count": 15,
   "id": "79a173c8-82fd-4b1d-ac44-8f4876c15e79",
   "metadata": {},
   "outputs": [
    {
     "data": {
      "text/plain": [
       "[(-3, -7), (-3, 7), (0, -sqrt(58)), (0, sqrt(58)), (3, -7), (3, 7)]"
      ]
     },
     "execution_count": 15,
     "metadata": {},
     "output_type": "execute_result"
    }
   ],
   "source": [
    "eq21 = sp.Eq(x*y**2 - 49*x , 0)\n",
    "eq21\n",
    "\n",
    "eq22 = sp.Eq(x**2 + y**2 , 58)\n",
    "eq22\n",
    "\n",
    "sol=solve([eq21,eq22], [x,y])\n",
    "sol"
   ]
  },
  {
   "cell_type": "markdown",
   "id": "bbb423b7-6d12-4da0-8951-00ce14d366de",
   "metadata": {},
   "source": [
    "Oppgave 2B"
   ]
  },
  {
   "cell_type": "code",
   "execution_count": 16,
   "id": "d523bc5c-f8ae-462a-9687-0cf7890bc1c0",
   "metadata": {},
   "outputs": [
    {
     "data": {
      "text/plain": [
       "[(-1.11803398874989, 0.0),\n",
       " (-0.500000000000000, -1.00000000000000),\n",
       " (-0.500000000000000, 1.00000000000000),\n",
       " (1.11803398874989, 0.0)]"
      ]
     },
     "execution_count": 16,
     "metadata": {},
     "output_type": "execute_result"
    }
   ],
   "source": [
    "eq23 = sp.Eq(x**2+y**2 , 5/4)\n",
    "eq23\n",
    "\n",
    "eq24 = sp.Eq(2*x*y + y , 0)\n",
    "eq24\n",
    "\n",
    "sol=solve([eq23,eq24], [x,y])\n",
    "sol"
   ]
  },
  {
   "cell_type": "markdown",
   "id": "139516c0-fd7a-406f-b453-2f3c8ba01c09",
   "metadata": {},
   "source": [
    "## Modul 19, Grunnleggende derivasjonsregler\n",
    "Funksjoner"
   ]
  },
  {
   "cell_type": "markdown",
   "id": "8975dcc4-47e4-467c-8894-055d2f029e85",
   "metadata": {},
   "source": [
    "Oppgave 1A"
   ]
  },
  {
   "cell_type": "code",
   "execution_count": 18,
   "id": "61c75435-9fee-4ffa-ac8a-a4c544e6524c",
   "metadata": {},
   "outputs": [
    {
     "data": {
      "text/latex": [
       "$\\displaystyle 5 x^{4}$"
      ],
      "text/plain": [
       "5*x**4"
      ]
     },
     "execution_count": 18,
     "metadata": {},
     "output_type": "execute_result"
    }
   ],
   "source": [
    "import sympy as sp\n",
    "from sympy.solvers import solve\n",
    "x,y=sp.symbols('x y')\n",
    "\n",
    "eq25 = sp.diff(x**5, x)\n",
    "eq25"
   ]
  },
  {
   "cell_type": "markdown",
   "id": "d4744543-6fde-4c2a-80df-bc5c8c8f1b5d",
   "metadata": {},
   "source": [
    "Oppgave 1B"
   ]
  },
  {
   "cell_type": "code",
   "execution_count": 19,
   "id": "5553d7a0-951b-440c-a4e2-69be6d53107f",
   "metadata": {},
   "outputs": [
    {
     "data": {
      "text/latex": [
       "$\\displaystyle 1$"
      ],
      "text/plain": [
       "1"
      ]
     },
     "execution_count": 19,
     "metadata": {},
     "output_type": "execute_result"
    }
   ],
   "source": [
    "eq26 = sp.diff(x+12,x)\n",
    "eq26"
   ]
  },
  {
   "cell_type": "markdown",
   "id": "b2557038-86fb-470a-ba6a-e3d7ba011386",
   "metadata": {},
   "source": [
    "Oppgave 1C"
   ]
  },
  {
   "cell_type": "code",
   "execution_count": 20,
   "id": "ccb2ff68-7b14-4bfc-bfcf-f7e1ee2a61d8",
   "metadata": {},
   "outputs": [
    {
     "data": {
      "text/latex": [
       "$\\displaystyle 3 x^{2} + 4$"
      ],
      "text/plain": [
       "3*x**2 + 4"
      ]
     },
     "execution_count": 20,
     "metadata": {},
     "output_type": "execute_result"
    }
   ],
   "source": [
    "eq27 = sp.diff(x**3 + 4*x , x)\n",
    "eq27"
   ]
  },
  {
   "cell_type": "markdown",
   "id": "1fcba1ea-3421-40a3-a4af-60d07f158918",
   "metadata": {},
   "source": [
    "Oppgave 1D"
   ]
  },
  {
   "cell_type": "code",
   "execution_count": 21,
   "id": "90b772be-5267-43c9-a535-9274141619dd",
   "metadata": {},
   "outputs": [
    {
     "data": {
      "text/latex": [
       "$\\displaystyle 3 x^{2}$"
      ],
      "text/plain": [
       "3*x**2"
      ]
     },
     "execution_count": 21,
     "metadata": {},
     "output_type": "execute_result"
    }
   ],
   "source": [
    "eq28 = sp.diff(x**3 + 36**(1/2), x)\n",
    "eq28"
   ]
  },
  {
   "cell_type": "markdown",
   "id": "bd29862b-7178-41c3-97f9-51641a8ee877",
   "metadata": {},
   "source": [
    "Oppgave 1E"
   ]
  },
  {
   "cell_type": "code",
   "execution_count": 22,
   "id": "b8801acf-1338-4c4d-b54d-730e9b24f69f",
   "metadata": {},
   "outputs": [
    {
     "data": {
      "text/latex": [
       "$\\displaystyle \\frac{0.5}{x^{0.5}}$"
      ],
      "text/plain": [
       "0.5*x**(-0.5)"
      ]
     },
     "execution_count": 22,
     "metadata": {},
     "output_type": "execute_result"
    }
   ],
   "source": [
    "eq29 = sp.diff(x**(1/2) + 52, x)\n",
    "eq29"
   ]
  },
  {
   "cell_type": "markdown",
   "id": "8e9cdcee-43d1-405c-a1b8-3d1dd29bb630",
   "metadata": {},
   "source": [
    "Oppgave 1F"
   ]
  },
  {
   "cell_type": "code",
   "execution_count": 23,
   "id": "dbf4a162-77f4-4e40-83f9-ba141aa0b6ca",
   "metadata": {},
   "outputs": [
    {
     "data": {
      "text/latex": [
       "$\\displaystyle 3 x^{2} + 1$"
      ],
      "text/plain": [
       "3*x**2 + 1"
      ]
     },
     "execution_count": 23,
     "metadata": {},
     "output_type": "execute_result"
    }
   ],
   "source": [
    "eq30 = sp.diff(x**3+1*x, x)\n",
    "eq30"
   ]
  },
  {
   "cell_type": "markdown",
   "id": "7cbc0d8a-7df5-4868-be79-172a44286423",
   "metadata": {},
   "source": [
    "Oppgave 1G"
   ]
  },
  {
   "cell_type": "code",
   "execution_count": 24,
   "id": "3f4969db-cbef-4712-9225-f45b88caeb8d",
   "metadata": {},
   "outputs": [
    {
     "data": {
      "text/latex": [
       "$\\displaystyle 3 x^{2} - 2 x + 14$"
      ],
      "text/plain": [
       "3*x**2 - 2*x + 14"
      ]
     },
     "execution_count": 24,
     "metadata": {},
     "output_type": "execute_result"
    }
   ],
   "source": [
    "eq31 = sp.diff(x**3 - x**2 + 14*x, x)\n",
    "eq31"
   ]
  },
  {
   "cell_type": "markdown",
   "id": "8f728e44-89f8-4e47-a0df-a67447468f5d",
   "metadata": {},
   "source": [
    "Oppgave 2A"
   ]
  },
  {
   "cell_type": "code",
   "execution_count": 25,
   "id": "18f6381f-4002-42bd-959f-1a4759ee139e",
   "metadata": {},
   "outputs": [
    {
     "data": {
      "text/latex": [
       "$\\displaystyle 12 x - \\frac{1}{x^{2}}$"
      ],
      "text/plain": [
       "12*x - 1/x**2"
      ]
     },
     "execution_count": 25,
     "metadata": {},
     "output_type": "execute_result"
    }
   ],
   "source": [
    "eq32 = sp.diff(1/x + 6*x**2, x)\n",
    "eq32"
   ]
  },
  {
   "cell_type": "markdown",
   "id": "531ddb51-f01c-4df7-8d31-dbe4b3186e2b",
   "metadata": {},
   "source": [
    "Oppgave 2B"
   ]
  },
  {
   "cell_type": "code",
   "execution_count": 26,
   "id": "44442990-933a-46b3-8c71-dacc49a96e95",
   "metadata": {},
   "outputs": [
    {
     "data": {
      "text/latex": [
       "$\\displaystyle 1.5 x^{2} - 1$"
      ],
      "text/plain": [
       "1.5*x**2 - 1"
      ]
     },
     "execution_count": 26,
     "metadata": {},
     "output_type": "execute_result"
    }
   ],
   "source": [
    "eq33 = sp.diff( -x + 1/2*x**3 , x)\n",
    "eq33"
   ]
  },
  {
   "cell_type": "markdown",
   "id": "ec6840f0-4dee-444d-bbf3-5b9aa66e8d4a",
   "metadata": {},
   "source": [
    "Oppgave 2C"
   ]
  },
  {
   "cell_type": "code",
   "execution_count": 27,
   "id": "69a3a3f0-18b5-469d-abea-a202ef58855e",
   "metadata": {},
   "outputs": [
    {
     "data": {
      "text/latex": [
       "$\\displaystyle x^{2} + x \\left(2 x + 2\\right) + 2 x - 3$"
      ],
      "text/plain": [
       "x**2 + x*(2*x + 2) + 2*x - 3"
      ]
     },
     "execution_count": 27,
     "metadata": {},
     "output_type": "execute_result"
    }
   ],
   "source": [
    "eq34 = sp.diff(x*(x**2 + 2*x - 3) , x)\n",
    "eq34"
   ]
  },
  {
   "cell_type": "markdown",
   "id": "0bc2a885-bbae-4dfb-88c7-ca1d57e0520b",
   "metadata": {},
   "source": [
    "## Modul 20 Produkt- og brøkregelen"
   ]
  },
  {
   "cell_type": "markdown",
   "id": "7ad1e88e-adc2-45a7-ac46-ba3365d1649c",
   "metadata": {},
   "source": [
    "Oppgave 1E"
   ]
  },
  {
   "cell_type": "code",
   "execution_count": 28,
   "id": "fdbec0a1-0d1d-4eb7-b264-e494a4396f70",
   "metadata": {},
   "outputs": [
    {
     "data": {
      "text/latex": [
       "$\\displaystyle 9 x^{8}$"
      ],
      "text/plain": [
       "9*x**8"
      ]
     },
     "execution_count": 28,
     "metadata": {},
     "output_type": "execute_result"
    }
   ],
   "source": [
    "eq35 = sp.diff(x**4 * x**5 , x)\n",
    "eq35"
   ]
  },
  {
   "cell_type": "markdown",
   "id": "aaaf4232-4d00-4f6d-9219-bd7c66511d47",
   "metadata": {},
   "source": [
    "Oppgve 1F"
   ]
  },
  {
   "cell_type": "code",
   "execution_count": 29,
   "id": "7ef76c8a-6df7-4496-9fdb-181541ce54c2",
   "metadata": {},
   "outputs": [
    {
     "data": {
      "text/latex": [
       "$\\displaystyle \\frac{3 \\sqrt{x}}{2}$"
      ],
      "text/plain": [
       "3*sqrt(x)/2"
      ]
     },
     "execution_count": 29,
     "metadata": {},
     "output_type": "execute_result"
    }
   ],
   "source": [
    "eq36 = sp.diff(x * sp.sqrt(x), x)\n",
    "eq36"
   ]
  },
  {
   "cell_type": "markdown",
   "id": "39ea49ba-dfd1-4e22-8bd5-e567833e958e",
   "metadata": {},
   "source": [
    "Oppgave 1G"
   ]
  },
  {
   "cell_type": "code",
   "execution_count": 30,
   "id": "23187c66-81a9-4340-8b09-89edd1328b2b",
   "metadata": {},
   "outputs": [
    {
     "data": {
      "text/latex": [
       "$\\displaystyle - \\frac{6}{x^{4}}$"
      ],
      "text/plain": [
       "-6/x**4"
      ]
     },
     "execution_count": 30,
     "metadata": {},
     "output_type": "execute_result"
    }
   ],
   "source": [
    "eq37 = sp.diff( 2/x**3 , x)\n",
    "eq37"
   ]
  },
  {
   "cell_type": "markdown",
   "id": "a568d8cf-653d-43d0-8150-4dd7bb0e7ee2",
   "metadata": {},
   "source": [
    "Oppgave 1H"
   ]
  },
  {
   "cell_type": "code",
   "execution_count": 31,
   "id": "22961d2b-7eb1-41a5-a729-3660a495c8e6",
   "metadata": {},
   "outputs": [
    {
     "data": {
      "text/latex": [
       "$\\displaystyle 2 x + \\frac{6}{x^{4}}$"
      ],
      "text/plain": [
       "2*x + 6/x**4"
      ]
     },
     "execution_count": 31,
     "metadata": {},
     "output_type": "execute_result"
    }
   ],
   "source": [
    "eq38 = sp.diff( x**2 - 2 / x**3, x)\n",
    "eq38"
   ]
  },
  {
   "cell_type": "markdown",
   "id": "9b348c53-a075-4c78-823e-581b7fccc439",
   "metadata": {},
   "source": [
    "Oppgave 1I"
   ]
  },
  {
   "cell_type": "code",
   "execution_count": 32,
   "id": "145a72ef-8c4f-499d-bcde-513c5ffe3985",
   "metadata": {},
   "outputs": [
    {
     "data": {
      "text/latex": [
       "$\\displaystyle \\frac{13 x^{\\frac{11}{2}}}{2}$"
      ],
      "text/plain": [
       "13*x**(11/2)/2"
      ]
     },
     "execution_count": 32,
     "metadata": {},
     "output_type": "execute_result"
    }
   ],
   "source": [
    "eq39 = sp.diff(sp.sqrt(x) * x**6, x)\n",
    "eq39"
   ]
  },
  {
   "cell_type": "markdown",
   "id": "b857347f-1759-4ed3-af37-66e25a40b9d0",
   "metadata": {},
   "source": [
    "Oppgave 1J"
   ]
  },
  {
   "cell_type": "code",
   "execution_count": 33,
   "id": "b6a00f07-645a-4894-b45c-5491eefcc325",
   "metadata": {},
   "outputs": [
    {
     "data": {
      "text/latex": [
       "$\\displaystyle 3 x^{2} + 1$"
      ],
      "text/plain": [
       "3*x**2 + 1"
      ]
     },
     "execution_count": 33,
     "metadata": {},
     "output_type": "execute_result"
    }
   ],
   "source": [
    "eq40 = sp.diff(x *(x**2 + 1), x)\n",
    "eq40"
   ]
  },
  {
   "cell_type": "markdown",
   "id": "2c626feb-a6c3-4385-9e15-5340a49f8b23",
   "metadata": {},
   "source": [
    "Oppgave 1K"
   ]
  },
  {
   "cell_type": "code",
   "execution_count": 34,
   "id": "574e0cb0-547d-4521-be74-22833d285714",
   "metadata": {},
   "outputs": [
    {
     "data": {
      "text/latex": [
       "$\\displaystyle \\frac{2}{x^{2}} - \\frac{3 \\left(x^{2} + 4\\right)}{x^{4}}$"
      ],
      "text/plain": [
       "2/x**2 - 3*(x**2 + 4)/x**4"
      ]
     },
     "execution_count": 34,
     "metadata": {},
     "output_type": "execute_result"
    }
   ],
   "source": [
    "eq41 = sp.diff((x**2 + 4)/ x**3 - 1, x)\n",
    "eq41"
   ]
  },
  {
   "cell_type": "markdown",
   "id": "9cad7a4d-7af8-4ca0-8def-8e42b6e481f5",
   "metadata": {},
   "source": [
    "Oppgave 1L"
   ]
  },
  {
   "cell_type": "code",
   "execution_count": 35,
   "id": "9ddb0feb-b9fb-4152-bace-7b4b04916e69",
   "metadata": {},
   "outputs": [
    {
     "data": {
      "text/latex": [
       "$\\displaystyle 2$"
      ],
      "text/plain": [
       "2"
      ]
     },
     "execution_count": 35,
     "metadata": {},
     "output_type": "execute_result"
    }
   ],
   "source": [
    "eq42 = sp.diff(x**2/x**2+ 2*x, x)\n",
    "eq42"
   ]
  },
  {
   "cell_type": "markdown",
   "id": "9ee99371-68cb-43c1-9dcf-36878f4f5a8d",
   "metadata": {},
   "source": [
    "Oppgave 1M"
   ]
  },
  {
   "cell_type": "code",
   "execution_count": 36,
   "id": "9188fe90-11a2-4e6e-a77e-958632bd4532",
   "metadata": {},
   "outputs": [
    {
     "data": {
      "text/latex": [
       "$\\displaystyle 2 x + 4 - \\frac{2}{x^{2}}$"
      ],
      "text/plain": [
       "2*x + 4 - 2/x**2"
      ]
     },
     "execution_count": 36,
     "metadata": {},
     "output_type": "execute_result"
    }
   ],
   "source": [
    "eq43 = sp.diff(x**2 + 4*x + 2/x - 2 , x)\n",
    "eq43"
   ]
  },
  {
   "cell_type": "markdown",
   "id": "71df6402-4ef6-4a11-8145-3ea27f0ba7bc",
   "metadata": {},
   "source": [
    "Oppgave 2A"
   ]
  },
  {
   "cell_type": "code",
   "execution_count": 37,
   "id": "46a63f44-1070-479d-ac21-808f5c41ffe5",
   "metadata": {},
   "outputs": [
    {
     "data": {
      "text/latex": [
       "$\\displaystyle 3 x^{2} + \\frac{2}{x^{2}}$"
      ],
      "text/plain": [
       "3*x**2 + 2/x**2"
      ]
     },
     "execution_count": 37,
     "metadata": {},
     "output_type": "execute_result"
    }
   ],
   "source": [
    "eq44 = sp.diff(x**3 - 2*x/x**2 - 1, x)\n",
    "eq44"
   ]
  },
  {
   "cell_type": "markdown",
   "id": "6d1a7d40-9319-4595-8d88-f3ab67ce2f2c",
   "metadata": {},
   "source": [
    "Oppgave 2B"
   ]
  },
  {
   "cell_type": "code",
   "execution_count": 38,
   "id": "dafc312a-6b07-496c-89a1-569eb4fbbadf",
   "metadata": {},
   "outputs": [
    {
     "data": {
      "text/latex": [
       "$\\displaystyle 4 x$"
      ],
      "text/plain": [
       "4*x"
      ]
     },
     "execution_count": 38,
     "metadata": {},
     "output_type": "execute_result"
    }
   ],
   "source": [
    "eq45 = sp.diff((x**2 + 1)+(x**2 - 1), x)\n",
    "eq45"
   ]
  },
  {
   "cell_type": "markdown",
   "id": "7efacce6-87f3-44e0-9052-c9face365e87",
   "metadata": {},
   "source": [
    "Oppgave 2C"
   ]
  },
  {
   "cell_type": "code",
   "execution_count": 39,
   "id": "6c52374e-04b7-4341-870d-0e66a272765d",
   "metadata": {},
   "outputs": [
    {
     "data": {
      "text/latex": [
       "$\\displaystyle 3 + \\frac{12}{x^{4}}$"
      ],
      "text/plain": [
       "3 + 12/x**4"
      ]
     },
     "execution_count": 39,
     "metadata": {},
     "output_type": "execute_result"
    }
   ],
   "source": [
    "eq46 = sp.diff(3*x - 4 / x**3 + 7 , x)\n",
    "eq46"
   ]
  },
  {
   "cell_type": "markdown",
   "id": "1e7061ea-948e-4424-8263-52bc0b9a5154",
   "metadata": {},
   "source": [
    "## Modul 21 Kjerneregelen"
   ]
  },
  {
   "cell_type": "markdown",
   "id": "855c1eca-e168-4c64-96d3-e5a07bc27f3e",
   "metadata": {},
   "source": [
    "Oppgave 1A"
   ]
  },
  {
   "cell_type": "code",
   "execution_count": 40,
   "id": "3be844a6-dcc5-4d10-a6f1-c69e44cbfb8d",
   "metadata": {},
   "outputs": [
    {
     "data": {
      "text/latex": [
       "$\\displaystyle \\left(15 x^{2} + 30\\right) \\left(x^{3} + 6 x\\right)^{4}$"
      ],
      "text/plain": [
       "(15*x**2 + 30)*(x**3 + 6*x)**4"
      ]
     },
     "execution_count": 40,
     "metadata": {},
     "output_type": "execute_result"
    }
   ],
   "source": [
    "import sympy as sp\n",
    "from sympy.solvers import solve\n",
    "x,y=sp.symbols('x y')\n",
    "\n",
    "eq47 = sp.diff((x**3 + 6*x)**5)\n",
    "eq47"
   ]
  },
  {
   "cell_type": "markdown",
   "id": "020a585b-4c02-4c1f-9575-e3471cbd09a3",
   "metadata": {},
   "source": [
    "Oppgave 1B"
   ]
  },
  {
   "cell_type": "code",
   "execution_count": 41,
   "id": "cc15a1a2-5e9c-4611-aa22-4018d2c6febd",
   "metadata": {},
   "outputs": [
    {
     "data": {
      "text/latex": [
       "$\\displaystyle \\frac{2 x}{\\sqrt{2 x^{2} + 5}}$"
      ],
      "text/plain": [
       "2*x/sqrt(2*x**2 + 5)"
      ]
     },
     "execution_count": 41,
     "metadata": {},
     "output_type": "execute_result"
    }
   ],
   "source": [
    "eq48 = sp.diff(sp.sqrt(2*x**2 + 5), x)\n",
    "eq48"
   ]
  },
  {
   "cell_type": "markdown",
   "id": "2f6faa8f-978a-4e56-a534-7aa26562963c",
   "metadata": {},
   "source": [
    "Oppgave 1C"
   ]
  },
  {
   "cell_type": "code",
   "execution_count": 42,
   "id": "b3dda9e7-69f8-443c-a702-3cf8eb7d6561",
   "metadata": {},
   "outputs": [
    {
     "data": {
      "text/latex": [
       "$\\displaystyle - \\frac{8 \\left(3 + \\frac{2}{x}\\right)^{3}}{x^{2}}$"
      ],
      "text/plain": [
       "-8*(3 + 2/x)**3/x**2"
      ]
     },
     "execution_count": 42,
     "metadata": {},
     "output_type": "execute_result"
    }
   ],
   "source": [
    "eq49 = sp.diff((2*x/x**2 + 3)**4, x)\n",
    "eq49"
   ]
  },
  {
   "cell_type": "markdown",
   "id": "b0271364-af6a-4357-ac29-4b6918bdaf22",
   "metadata": {},
   "source": [
    "Oppgave 1D"
   ]
  },
  {
   "cell_type": "code",
   "execution_count": 43,
   "id": "43062a69-2c39-421b-bfde-3cda09183b25",
   "metadata": {},
   "outputs": [
    {
     "data": {
      "text/latex": [
       "$\\displaystyle 12 x^{3} \\left(2 x^{4} + 9\\right)^{2}$"
      ],
      "text/plain": [
       "12*x**3*(2*x**4 + 9)**2"
      ]
     },
     "execution_count": 43,
     "metadata": {},
     "output_type": "execute_result"
    }
   ],
   "source": [
    "eq50 = sp.diff((2*x**4 + 9)**3/2, x)\n",
    "eq50"
   ]
  },
  {
   "cell_type": "markdown",
   "id": "e0706643-bdf2-449f-86eb-d71f617be3d5",
   "metadata": {},
   "source": [
    "Oppgave 1E"
   ]
  },
  {
   "cell_type": "code",
   "execution_count": 44,
   "id": "4ecc453b-a0a2-4c98-906f-97a385753710",
   "metadata": {},
   "outputs": [
    {
     "data": {
      "text/latex": [
       "$\\displaystyle - \\frac{x}{\\left(x^{2} + 1\\right)^{\\frac{3}{2}}}$"
      ],
      "text/plain": [
       "-x/(x**2 + 1)**(3/2)"
      ]
     },
     "execution_count": 44,
     "metadata": {},
     "output_type": "execute_result"
    }
   ],
   "source": [
    "eq51 = sp.diff(1 / sp.sqrt(1 + x**2), x)\n",
    "eq51"
   ]
  },
  {
   "cell_type": "markdown",
   "id": "044ae19e-a7ed-49b7-a750-070519f455ab",
   "metadata": {},
   "source": [
    "Oppgave 1F"
   ]
  },
  {
   "cell_type": "code",
   "execution_count": 45,
   "id": "bb7a3712-5063-434e-87af-5cd87e51c5ad",
   "metadata": {},
   "outputs": [
    {
     "data": {
      "text/latex": [
       "$\\displaystyle x^{2} \\left(6 x + 6\\right) \\left(x^{2} + 2 x\\right)^{2} + 2 x \\left(x^{2} + 2 x\\right)^{3}$"
      ],
      "text/plain": [
       "x**2*(6*x + 6)*(x**2 + 2*x)**2 + 2*x*(x**2 + 2*x)**3"
      ]
     },
     "execution_count": 45,
     "metadata": {},
     "output_type": "execute_result"
    }
   ],
   "source": [
    "eq52 = sp.diff(x**2*(x**2 + 2*x)**3, x)\n",
    "eq52"
   ]
  },
  {
   "cell_type": "markdown",
   "id": "ce9fa41a-9bc6-47e0-8e8a-bdd27546a24f",
   "metadata": {},
   "source": [
    "Oppgave 1G"
   ]
  },
  {
   "cell_type": "code",
   "execution_count": 46,
   "id": "7d6bd53d-7b15-4f23-95f1-b061f192bd61",
   "metadata": {},
   "outputs": [
    {
     "data": {
      "text/latex": [
       "$\\displaystyle \\frac{x^{2} \\left(x - 1\\right)}{\\sqrt{x^{2} - 2 x}} + 2 x \\sqrt{x^{2} - 2 x}$"
      ],
      "text/plain": [
       "x**2*(x - 1)/sqrt(x**2 - 2*x) + 2*x*sqrt(x**2 - 2*x)"
      ]
     },
     "execution_count": 46,
     "metadata": {},
     "output_type": "execute_result"
    }
   ],
   "source": [
    "eq53 = sp.diff(x**2 * sp.sqrt(x**2 - 2*x))\n",
    "eq53"
   ]
  },
  {
   "cell_type": "markdown",
   "id": "64f1c480-386a-4311-9068-765ccb9a77f5",
   "metadata": {},
   "source": [
    "Oppgave 1H"
   ]
  },
  {
   "cell_type": "code",
   "execution_count": 47,
   "id": "7f004d9f-cfaf-486d-bfda-8f1c850a0a64",
   "metadata": {},
   "outputs": [
    {
     "data": {
      "text/latex": [
       "$\\displaystyle \\frac{x^{2} \\left(- 6 x - 3\\right)}{\\left(x^{2} + x\\right)^{4}} + \\frac{2 x}{\\left(x^{2} + x\\right)^{3}}$"
      ],
      "text/plain": [
       "x**2*(-6*x - 3)/(x**2 + x)**4 + 2*x/(x**2 + x)**3"
      ]
     },
     "execution_count": 47,
     "metadata": {},
     "output_type": "execute_result"
    }
   ],
   "source": [
    "eq54 = sp.diff(x**2 / (x**2 + x)**3 , x)\n",
    "eq54"
   ]
  },
  {
   "cell_type": "markdown",
   "id": "18c791bf-9ce7-4e0c-abbf-3356a6c47bcd",
   "metadata": {},
   "source": [
    "Oppgave 1I"
   ]
  },
  {
   "cell_type": "code",
   "execution_count": 48,
   "id": "b800b231-32bb-4c0f-a6ba-0bb3137fdcaa",
   "metadata": {},
   "outputs": [
    {
     "data": {
      "text/latex": [
       "$\\displaystyle 9 x^{2} \\left(x^{2} + 1\\right)^{2} \\left(x^{3} + 1\\right)^{2} + 4 x \\left(x^{2} + 1\\right) \\left(x^{3} + 1\\right)^{3}$"
      ],
      "text/plain": [
       "9*x**2*(x**2 + 1)**2*(x**3 + 1)**2 + 4*x*(x**2 + 1)*(x**3 + 1)**3"
      ]
     },
     "execution_count": 48,
     "metadata": {},
     "output_type": "execute_result"
    }
   ],
   "source": [
    "eq55 = sp.diff((x**2 + 1)**2 * (x**3 + 1)**3, x)\n",
    "eq55"
   ]
  },
  {
   "cell_type": "markdown",
   "id": "bcde77b3-c287-40fe-8737-ee7fd42bedfb",
   "metadata": {},
   "source": [
    "Oppgave 2A"
   ]
  },
  {
   "cell_type": "code",
   "execution_count": 49,
   "id": "915e4448-47e7-4061-a6a3-ca67955f1b61",
   "metadata": {},
   "outputs": [
    {
     "data": {
      "text/latex": [
       "$\\displaystyle \\left(12 x + 4\\right) \\left(3 x^{2} + 2 x\\right)$"
      ],
      "text/plain": [
       "(12*x + 4)*(3*x**2 + 2*x)"
      ]
     },
     "execution_count": 49,
     "metadata": {},
     "output_type": "execute_result"
    }
   ],
   "source": [
    "eq56 = sp.diff(sp.sqrt(3*x**2 + 2*x)**4, x)\n",
    "eq56"
   ]
  },
  {
   "cell_type": "markdown",
   "id": "a7f797a6-9619-4ba0-b745-283cfc6bbc6b",
   "metadata": {},
   "source": [
    "Oppgave 2B"
   ]
  },
  {
   "cell_type": "code",
   "execution_count": 50,
   "id": "b9e2931b-12c6-4a5b-a703-34ac5d613489",
   "metadata": {},
   "outputs": [
    {
     "data": {
      "text/latex": [
       "$\\displaystyle 15 x^{2} \\left(x^{2} + 3\\right)^{4} \\left(x^{3} + 3\\right)^{4} + 8 x \\left(x^{2} + 3\\right)^{3} \\left(x^{3} + 3\\right)^{5}$"
      ],
      "text/plain": [
       "15*x**2*(x**2 + 3)**4*(x**3 + 3)**4 + 8*x*(x**2 + 3)**3*(x**3 + 3)**5"
      ]
     },
     "execution_count": 50,
     "metadata": {},
     "output_type": "execute_result"
    }
   ],
   "source": [
    "eq57 = sp.diff(((x**3 + 3)**5 * (x**2 + 3)**4), x)\n",
    "eq57"
   ]
  },
  {
   "cell_type": "markdown",
   "id": "8647b480-24a2-4748-997e-f6755aa2cd38",
   "metadata": {},
   "source": [
    "Oppgave 2C"
   ]
  },
  {
   "cell_type": "code",
   "execution_count": 51,
   "id": "4e6a8571-b08e-4669-8381-fea22f8f6fc3",
   "metadata": {},
   "outputs": [
    {
     "data": {
      "text/latex": [
       "$\\displaystyle \\frac{\\sqrt{2} \\sqrt{x^{2}}}{x}$"
      ],
      "text/plain": [
       "sqrt(2)*sqrt(x**2)/x"
      ]
     },
     "execution_count": 51,
     "metadata": {},
     "output_type": "execute_result"
    }
   ],
   "source": [
    "eq58 = sp.diff(sp.sqrt(x**2 + 1 * x**2) , x)\n",
    "eq58"
   ]
  },
  {
   "cell_type": "markdown",
   "id": "01468a59-bc73-4758-af7e-d300c737bf8d",
   "metadata": {},
   "source": [
    "Oppgave 2D"
   ]
  },
  {
   "cell_type": "code",
   "execution_count": 52,
   "id": "ff73434c-d4ca-4826-8339-274ee75df17d",
   "metadata": {},
   "outputs": [
    {
     "data": {
      "text/latex": [
       "$\\displaystyle \\frac{\\left(18 x + 6\\right) \\left(3 x^{2} + 2 x\\right)^{2}}{x^{2}} - \\frac{2 \\left(3 x^{2} + 2 x\\right)^{3}}{x^{3}}$"
      ],
      "text/plain": [
       "(18*x + 6)*(3*x**2 + 2*x)**2/x**2 - 2*(3*x**2 + 2*x)**3/x**3"
      ]
     },
     "execution_count": 52,
     "metadata": {},
     "output_type": "execute_result"
    }
   ],
   "source": [
    "eq59 = sp.diff((2*x + 3*x**2)**3 / x**2 , x)\n",
    "eq59"
   ]
  },
  {
   "cell_type": "markdown",
   "id": "0e8bb2ef-5a2e-41b4-976a-7d6a196be571",
   "metadata": {},
   "source": [
    "Oppgave 2E"
   ]
  },
  {
   "cell_type": "code",
   "execution_count": 53,
   "id": "72214a81-a6c2-4dfa-b822-605a2eace0cf",
   "metadata": {},
   "outputs": [
    {
     "data": {
      "text/latex": [
       "$\\displaystyle 6 x^{3} \\sqrt{x^{4} - 5}$"
      ],
      "text/plain": [
       "6*x**3*sqrt(x**4 - 5)"
      ]
     },
     "execution_count": 53,
     "metadata": {},
     "output_type": "execute_result"
    }
   ],
   "source": [
    "eq60 = sp.diff(sp.sqrt(x**4 - 5)**3 , x)\n",
    "eq60"
   ]
  },
  {
   "cell_type": "markdown",
   "id": "162064d8-baf2-4e25-8a13-b490d805dbf0",
   "metadata": {},
   "source": [
    "Oppgave 2F"
   ]
  },
  {
   "cell_type": "code",
   "execution_count": 54,
   "id": "14573c47-8150-4f28-9995-470cb476b9f7",
   "metadata": {},
   "outputs": [
    {
     "data": {
      "text/latex": [
       "$\\displaystyle - \\frac{2 x^{6}}{\\left(x^{4} - 1\\right)^{\\frac{3}{2}}} + \\frac{3 x^{2}}{\\sqrt{x^{4} - 1}}$"
      ],
      "text/plain": [
       "-2*x**6/(x**4 - 1)**(3/2) + 3*x**2/sqrt(x**4 - 1)"
      ]
     },
     "execution_count": 54,
     "metadata": {},
     "output_type": "execute_result"
    }
   ],
   "source": [
    "eq61 = sp.diff(x**3 / sp.sqrt(x**4 - 1), x)\n",
    "eq61"
   ]
  },
  {
   "cell_type": "markdown",
   "id": "2a2f4147-e57c-4c29-96e1-7f7f3850c890",
   "metadata": {},
   "source": [
    "## Modul 22 Derivasjon av logmaritme- og eksponentialfunksjoner"
   ]
  },
  {
   "cell_type": "code",
   "execution_count": 56,
   "id": "30a7f469-ed3b-4248-bbaa-2d792db6dd79",
   "metadata": {},
   "outputs": [
    {
     "data": {
      "text/latex": [
       "$\\displaystyle x^{\\frac{1}{y}}$"
      ],
      "text/plain": [
       "x**(1/y)"
      ]
     },
     "metadata": {},
     "output_type": "display_data"
    },
    {
     "data": {
      "text/latex": [
       "$\\displaystyle \\log{\\left(x \\right)}$"
      ],
      "text/plain": [
       "log(x)"
      ]
     },
     "metadata": {},
     "output_type": "display_data"
    },
    {
     "data": {
      "text/latex": [
       "$\\displaystyle e^{x}$"
      ],
      "text/plain": [
       "exp(x)"
      ]
     },
     "metadata": {},
     "output_type": "display_data"
    }
   ],
   "source": [
    "import sympy as sp\n",
    "x,y = sp.symbols ('x y')\n",
    "display( sp.root(x, y))\n",
    "display( sp.log(x))\n",
    "display( sp.exp(x))"
   ]
  },
  {
   "cell_type": "markdown",
   "id": "cb9a62ff-7946-45b0-878d-2f57c81adc4f",
   "metadata": {},
   "source": [
    "Oppgave 1A"
   ]
  },
  {
   "cell_type": "code",
   "execution_count": 57,
   "id": "438b7889-3852-4277-a26e-e23bb7605627",
   "metadata": {},
   "outputs": [
    {
     "data": {
      "text/latex": [
       "$\\displaystyle \\frac{1}{x}$"
      ],
      "text/plain": [
       "1/x"
      ]
     },
     "execution_count": 57,
     "metadata": {},
     "output_type": "execute_result"
    }
   ],
   "source": [
    "eq62 = sp.diff(sp.log(5*x))\n",
    "eq62"
   ]
  },
  {
   "cell_type": "markdown",
   "id": "3ac68fa0-c53a-44c2-a1d2-aa5e04154717",
   "metadata": {},
   "source": [
    "Oppgave 1B"
   ]
  },
  {
   "cell_type": "code",
   "execution_count": 58,
   "id": "d671311d-53aa-4f37-8fb8-ca53c5488261",
   "metadata": {},
   "outputs": [],
   "source": [
    "from sympy import E"
   ]
  },
  {
   "cell_type": "code",
   "execution_count": 59,
   "id": "e80a2c7c-797c-4844-b2cf-da8e6031e32a",
   "metadata": {},
   "outputs": [
    {
     "data": {
      "text/latex": [
       "$\\displaystyle \\frac{1}{x}$"
      ],
      "text/plain": [
       "1/x"
      ]
     },
     "execution_count": 59,
     "metadata": {},
     "output_type": "execute_result"
    }
   ],
   "source": [
    "eq63 = sp.diff(sp.log(E**-2*x ))\n",
    "eq63"
   ]
  },
  {
   "cell_type": "markdown",
   "id": "a9973340-f39e-4656-be7f-d822b80f7de1",
   "metadata": {},
   "source": [
    "Oppgave 1C"
   ]
  },
  {
   "cell_type": "code",
   "execution_count": 60,
   "id": "ff733631-f0af-4c93-acc1-4245ef5c1691",
   "metadata": {},
   "outputs": [
    {
     "data": {
      "text/latex": [
       "$\\displaystyle \\frac{1}{x}$"
      ],
      "text/plain": [
       "1/x"
      ]
     },
     "execution_count": 60,
     "metadata": {},
     "output_type": "execute_result"
    }
   ],
   "source": [
    "eq64 = sp.diff(sp.log(12*x) - 3)\n",
    "eq64"
   ]
  },
  {
   "cell_type": "markdown",
   "id": "c3839d8b-8575-45bb-9291-d9cfe6b85c32",
   "metadata": {},
   "source": [
    "Oppgave 1D"
   ]
  },
  {
   "cell_type": "code",
   "execution_count": 61,
   "id": "33690e4b-3301-4b5a-b468-78d741a138e0",
   "metadata": {},
   "outputs": [
    {
     "data": {
      "text/latex": [
       "$\\displaystyle 2^{x} \\log{\\left(2 \\right)}$"
      ],
      "text/plain": [
       "2**x*log(2)"
      ]
     },
     "execution_count": 61,
     "metadata": {},
     "output_type": "execute_result"
    }
   ],
   "source": [
    "eq65 = sp.diff(2**x)\n",
    "eq65"
   ]
  },
  {
   "cell_type": "markdown",
   "id": "154a60af-29bb-4326-93a0-230af79e76e8",
   "metadata": {},
   "source": [
    "Oppgave 1E"
   ]
  },
  {
   "cell_type": "code",
   "execution_count": 62,
   "id": "f1f0dc45-1c13-4e40-812e-c7bbe88788f0",
   "metadata": {},
   "outputs": [
    {
     "data": {
      "text/latex": [
       "$\\displaystyle e^{3}$"
      ],
      "text/plain": [
       "exp(3)"
      ]
     },
     "execution_count": 62,
     "metadata": {},
     "output_type": "execute_result"
    }
   ],
   "source": [
    "eq66 = sp.diff(E**3*x + 5)\n",
    "eq66"
   ]
  },
  {
   "cell_type": "markdown",
   "id": "f72f5e8c-2f35-4cb2-a725-da1ec278d54e",
   "metadata": {},
   "source": [
    "Oppgave 1F"
   ]
  },
  {
   "cell_type": "code",
   "execution_count": 63,
   "id": "9db5202a-bcfc-4d16-9bf1-23985c192449",
   "metadata": {},
   "outputs": [
    {
     "data": {
      "text/latex": [
       "$\\displaystyle \\frac{5 x^{4}}{x^{5} + 1}$"
      ],
      "text/plain": [
       "5*x**4/(x**5 + 1)"
      ]
     },
     "execution_count": 63,
     "metadata": {},
     "output_type": "execute_result"
    }
   ],
   "source": [
    "eq67 = sp.diff(sp.log(x**5 + 1))\n",
    "eq67"
   ]
  },
  {
   "cell_type": "markdown",
   "id": "a0896fda-a139-4b69-8516-7cb9e867082d",
   "metadata": {},
   "source": [
    "Oppgave 1G"
   ]
  },
  {
   "cell_type": "code",
   "execution_count": 64,
   "id": "b76980a4-9d35-4287-9c45-6b43c0611c2a",
   "metadata": {},
   "outputs": [
    {
     "data": {
      "text/latex": [
       "$\\displaystyle \\frac{2 x e^{4} + 8}{\\left(x^{2} e^{4} + 8 x\\right) \\log{\\left(x \\right)}} - \\frac{\\log{\\left(x^{2} e^{4} + 8 x \\right)}}{x \\log{\\left(x \\right)}^{2}}$"
      ],
      "text/plain": [
       "(2*x*exp(4) + 8)/((x**2*exp(4) + 8*x)*log(x)) - log(x**2*exp(4) + 8*x)/(x*log(x)**2)"
      ]
     },
     "execution_count": 64,
     "metadata": {},
     "output_type": "execute_result"
    }
   ],
   "source": [
    "eq68 = sp.diff(sp.log(E**4*x**2 + 8*x , x))\n",
    "eq68"
   ]
  },
  {
   "cell_type": "markdown",
   "id": "a5eb4889-70a1-4db2-b1f4-91780f333000",
   "metadata": {},
   "source": [
    "Oppgave 1H"
   ]
  },
  {
   "cell_type": "code",
   "execution_count": 65,
   "id": "361e0fc8-610a-4f19-9cd8-7372a0762f79",
   "metadata": {},
   "outputs": [
    {
     "data": {
      "text/latex": [
       "$\\displaystyle - \\frac{1}{x}$"
      ],
      "text/plain": [
       "-1/x"
      ]
     },
     "execution_count": 65,
     "metadata": {},
     "output_type": "execute_result"
    }
   ],
   "source": [
    "eq69 = sp.diff(sp.log(1 / x ))\n",
    "eq69"
   ]
  },
  {
   "cell_type": "markdown",
   "id": "871eac38-e69c-40b5-aa11-1d77bd1bd514",
   "metadata": {},
   "source": [
    "Oppgave 1I"
   ]
  },
  {
   "cell_type": "code",
   "execution_count": 66,
   "id": "a39f85a0-79e2-4e98-9510-00b7887997c7",
   "metadata": {},
   "outputs": [
    {
     "data": {
      "text/latex": [
       "$\\displaystyle \\frac{6 + 3 e^{4}}{6 x + 3 x e^{4}}$"
      ],
      "text/plain": [
       "(6 + 3*exp(4))/(6*x + 3*x*exp(4))"
      ]
     },
     "execution_count": 66,
     "metadata": {},
     "output_type": "execute_result"
    }
   ],
   "source": [
    "eq70 = sp.diff(sp.log(6 * x + 3*E**4*x))\n",
    "eq70"
   ]
  },
  {
   "cell_type": "markdown",
   "id": "d5bf9139-bf9c-4ee4-ab6f-ef2770e6a2c3",
   "metadata": {},
   "source": [
    "Oppgave 1J"
   ]
  },
  {
   "cell_type": "code",
   "execution_count": 67,
   "id": "d3dce544-43d1-48d1-9d31-5c8ada69b74f",
   "metadata": {},
   "outputs": [
    {
     "data": {
      "text/latex": [
       "$\\displaystyle - x e^{- x} + e^{- x}$"
      ],
      "text/plain": [
       "-x*exp(-x) + exp(-x)"
      ]
     },
     "execution_count": 67,
     "metadata": {},
     "output_type": "execute_result"
    }
   ],
   "source": [
    "eq71 = sp.diff(x * E** -x)\n",
    "eq71"
   ]
  },
  {
   "cell_type": "markdown",
   "id": "1a779e56-52bf-48b6-922a-83575f452a36",
   "metadata": {},
   "source": [
    "Oppgave 1K"
   ]
  },
  {
   "cell_type": "code",
   "execution_count": 68,
   "id": "587bb0cd-5c55-4a49-a601-3558e228d650",
   "metadata": {},
   "outputs": [
    {
     "data": {
      "text/latex": [
       "$\\displaystyle \\frac{2 x^{3}}{\\left(x^{2} + 2\\right) \\log{\\left(x \\right)}} + \\frac{2 x \\log{\\left(x^{2} + 2 \\right)}}{\\log{\\left(x \\right)}} - \\frac{x \\log{\\left(x^{2} + 2 \\right)}}{\\log{\\left(x \\right)}^{2}}$"
      ],
      "text/plain": [
       "2*x**3/((x**2 + 2)*log(x)) + 2*x*log(x**2 + 2)/log(x) - x*log(x**2 + 2)/log(x)**2"
      ]
     },
     "execution_count": 68,
     "metadata": {},
     "output_type": "execute_result"
    }
   ],
   "source": [
    "eq72 = sp.diff(x**2*sp.log(x**2 + 2, x))\n",
    "eq72"
   ]
  },
  {
   "cell_type": "markdown",
   "id": "8b90989f-7928-4c3b-b75c-dc2ee77da5a7",
   "metadata": {},
   "source": [
    "Oppgave 2A"
   ]
  },
  {
   "cell_type": "code",
   "execution_count": 69,
   "id": "61be0dfa-12fa-450a-9633-fdc9bcfcedd0",
   "metadata": {},
   "outputs": [
    {
     "data": {
      "text/latex": [
       "$\\displaystyle 4 x^{3} e^{2}$"
      ],
      "text/plain": [
       "4*x**3*exp(2)"
      ]
     },
     "execution_count": 69,
     "metadata": {},
     "output_type": "execute_result"
    }
   ],
   "source": [
    "eq73 = sp.diff(x**3*E**2*x)\n",
    "eq73"
   ]
  },
  {
   "cell_type": "markdown",
   "id": "91a4d351-4f60-4fda-b814-067b4b60d6df",
   "metadata": {},
   "source": [
    "Oppgave 2B"
   ]
  },
  {
   "cell_type": "code",
   "execution_count": 70,
   "id": "10de0efb-7f1b-4360-ac68-aae736149244",
   "metadata": {},
   "outputs": [
    {
     "data": {
      "text/latex": [
       "$\\displaystyle \\frac{2 x + \\frac{2}{x^{3}}}{x^{2} + 1 - \\frac{1}{x^{2}}}$"
      ],
      "text/plain": [
       "(2*x + 2/x**3)/(x**2 + 1 - 1/x**2)"
      ]
     },
     "execution_count": 70,
     "metadata": {},
     "output_type": "execute_result"
    }
   ],
   "source": [
    "eq74 = sp.diff(sp.log(x**2 - 1 / x**2 + 1))\n",
    "eq74"
   ]
  },
  {
   "cell_type": "markdown",
   "id": "e39a10f4-ac8b-493b-ad4a-713233267927",
   "metadata": {},
   "source": [
    "Oppgave 2C"
   ]
  },
  {
   "cell_type": "code",
   "execution_count": 71,
   "id": "bd4a72a6-e067-43d6-9afa-dd40db450f79",
   "metadata": {},
   "outputs": [
    {
     "data": {
      "text/latex": [
       "$\\displaystyle \\frac{2 x^{3}}{x^{2} + 2} + 2 x \\log{\\left(x^{2} + 2 \\right)}$"
      ],
      "text/plain": [
       "2*x**3/(x**2 + 2) + 2*x*log(x**2 + 2)"
      ]
     },
     "execution_count": 71,
     "metadata": {},
     "output_type": "execute_result"
    }
   ],
   "source": [
    "eq75 = sp.diff(x**2 * sp.log(x**2 +2))\n",
    "eq75"
   ]
  },
  {
   "cell_type": "markdown",
   "id": "d46941b6-c18e-421a-8b38-8fe5b1011164",
   "metadata": {},
   "source": [
    "Oppgave 2D"
   ]
  },
  {
   "cell_type": "code",
   "execution_count": 72,
   "id": "7b950a9c-ad00-4a32-9666-57fe25c5ca8e",
   "metadata": {},
   "outputs": [
    {
     "data": {
      "text/latex": [
       "$\\displaystyle - \\frac{e^{- x}}{x^{2}} - \\frac{2 e^{- x}}{x^{3}}$"
      ],
      "text/plain": [
       "-exp(-x)/x**2 - 2*exp(-x)/x**3"
      ]
     },
     "execution_count": 72,
     "metadata": {},
     "output_type": "execute_result"
    }
   ],
   "source": [
    "eq76 = sp.diff(E** - x/ x**2 + 1)\n",
    "eq76"
   ]
  }
 ],
 "metadata": {
  "kernelspec": {
   "display_name": "Python 3 (ipykernel)",
   "language": "python",
   "name": "python3"
  },
  "language_info": {
   "codemirror_mode": {
    "name": "ipython",
    "version": 3
   },
   "file_extension": ".py",
   "mimetype": "text/x-python",
   "name": "python",
   "nbconvert_exporter": "python",
   "pygments_lexer": "ipython3",
   "version": "3.9.5"
  }
 },
 "nbformat": 4,
 "nbformat_minor": 5
}
